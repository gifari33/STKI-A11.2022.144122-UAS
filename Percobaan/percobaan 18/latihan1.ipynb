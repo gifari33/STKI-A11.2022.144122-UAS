{
 "cells": [
  {
   "cell_type": "code",
   "execution_count": 1,
   "metadata": {},
   "outputs": [
    {
     "name": "stdout",
     "output_type": "stream",
     "text": [
      "Data berhasil diekstrak dan disimpan ke: C:\\Users\\ghiff\\Documents\\kuliah\\Analisa_Sentimen_Gojek\\percobaan 18\\new_dataset.csv\n"
     ]
    }
   ],
   "source": [
    "import pandas as pd\n",
    "\n",
    "# Path file input\n",
    "input_file_path = r'C:\\Users\\ghiff\\Documents\\kuliah\\Analisa_Sentimen_Gojek\\percobaan 17\\driver_labeled.csv'\n",
    "\n",
    "# Path file output\n",
    "output_file_path = r'C:\\Users\\ghiff\\Documents\\kuliah\\Analisa_Sentimen_Gojek\\percobaan 18\\new_dataset.csv'\n",
    "\n",
    "# Membaca file CSV input\n",
    "df = pd.read_csv(input_file_path)\n",
    "\n",
    "# Memilih kolom yang diinginkan\n",
    "new_df = df[['stemmed_tokens', 'permasalahan']]\n",
    "\n",
    "# Menyimpan DataFrame baru ke file CSV output\n",
    "new_df.to_csv(output_file_path, index=False)\n",
    "\n",
    "print(f\"Data berhasil diekstrak dan disimpan ke: {output_file_path}\")"
   ]
  }
 ],
 "metadata": {
  "kernelspec": {
   "display_name": "base",
   "language": "python",
   "name": "python3"
  },
  "language_info": {
   "codemirror_mode": {
    "name": "ipython",
    "version": 3
   },
   "file_extension": ".py",
   "mimetype": "text/x-python",
   "name": "python",
   "nbconvert_exporter": "python",
   "pygments_lexer": "ipython3",
   "version": "3.12.7"
  }
 },
 "nbformat": 4,
 "nbformat_minor": 2
}
