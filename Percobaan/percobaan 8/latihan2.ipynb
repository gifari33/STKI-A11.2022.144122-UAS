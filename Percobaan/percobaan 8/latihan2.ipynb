{
 "cells": [
  {
   "cell_type": "code",
   "execution_count": 2,
   "metadata": {},
   "outputs": [
    {
     "name": "stdout",
     "output_type": "stream",
     "text": [
      "File berhasil disimpan di H:\\My Drive\\analisa sentimen git\\percobaan 8\\validation.csv\n",
      "Jumlah baris yang dihapus: 64035\n"
     ]
    }
   ],
   "source": [
    "import pandas as pd\n",
    "\n",
    "# Baca file CSV\n",
    "input_path = r\"H:\\My Drive\\analisa sentimen git\\percobaan 8\\validation_results.csv\"\n",
    "data = pd.read_csv(input_path)\n",
    "\n",
    "# Hitung jumlah baris sebelum penghapusan\n",
    "initial_count = len(data)\n",
    "\n",
    "# Hapus baris di mana jumlah kata pada kolom 'content' hanya satu\n",
    "data = data[data['content'].str.split().str.len() > 1]\n",
    "\n",
    "# Hitung jumlah baris setelah penghapusan\n",
    "final_count = len(data)\n",
    "\n",
    "# Simpan hasilnya ke file CSV baru\n",
    "output_path = r\"H:\\My Drive\\analisa sentimen git\\percobaan 8\\validation.csv\"\n",
    "data.to_csv(output_path, index=False)\n",
    "\n",
    "# Hitung jumlah baris yang dihapus\n",
    "deleted_count = initial_count - final_count\n",
    "\n",
    "print(f\"File berhasil disimpan di {output_path}\")\n",
    "print(f\"Jumlah baris yang dihapus: {deleted_count}\")\n",
    "\n"
   ]
  }
 ],
 "metadata": {
  "kernelspec": {
   "display_name": "Python 3",
   "language": "python",
   "name": "python3"
  },
  "language_info": {
   "codemirror_mode": {
    "name": "ipython",
    "version": 3
   },
   "file_extension": ".py",
   "mimetype": "text/x-python",
   "name": "python",
   "nbconvert_exporter": "python",
   "pygments_lexer": "ipython3",
   "version": "3.13.0"
  }
 },
 "nbformat": 4,
 "nbformat_minor": 2
}
