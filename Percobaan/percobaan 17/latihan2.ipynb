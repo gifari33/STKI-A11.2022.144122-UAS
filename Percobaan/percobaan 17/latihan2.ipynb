{
 "cells": [
  {
   "cell_type": "code",
   "execution_count": 2,
   "metadata": {},
   "outputs": [
    {
     "name": "stderr",
     "output_type": "stream",
     "text": [
      "c:\\Users\\ghiff\\anaconda3\\Lib\\site-packages\\sklearn\\metrics\\_classification.py:1531: UndefinedMetricWarning: Precision is ill-defined and being set to 0.0 in labels with no predicted samples. Use `zero_division` parameter to control this behavior.\n",
      "  _warn_prf(average, modifier, f\"{metric.capitalize()} is\", len(result))\n",
      "c:\\Users\\ghiff\\anaconda3\\Lib\\site-packages\\sklearn\\metrics\\_classification.py:1531: UndefinedMetricWarning: Precision is ill-defined and being set to 0.0 in labels with no predicted samples. Use `zero_division` parameter to control this behavior.\n",
      "  _warn_prf(average, modifier, f\"{metric.capitalize()} is\", len(result))\n",
      "c:\\Users\\ghiff\\anaconda3\\Lib\\site-packages\\sklearn\\metrics\\_classification.py:1531: UndefinedMetricWarning: Precision is ill-defined and being set to 0.0 in labels with no predicted samples. Use `zero_division` parameter to control this behavior.\n",
      "  _warn_prf(average, modifier, f\"{metric.capitalize()} is\", len(result))\n"
     ]
    },
    {
     "name": "stdout",
     "output_type": "stream",
     "text": [
      "Classification Report:\n",
      "                                                             precision    recall  f1-score   support\n",
      "\n",
      "                           Permasalahan Biaya Tidak Sesuai       1.00      0.01      0.02       121\n",
      "                      Permasalahan Cuaca dan Kondisi Jalan       0.00      0.00      0.00        47\n",
      "                           Permasalahan Driver Lama Datang       1.00      0.22      0.36       124\n",
      "                      Permasalahan Driver Lambat Merespons       0.00      0.00      0.00        14\n",
      "                     Permasalahan Driver Membatalkan Order       0.43      0.01      0.02       240\n",
      "                    Permasalahan Driver Meminta Pembatalan       0.00      0.00      0.00        28\n",
      "                Permasalahan Driver Menagih Biaya Tambahan       0.00      0.00      0.00        16\n",
      "                         Permasalahan Driver Mengubah Rute       0.00      0.00      0.00         4\n",
      "                          Permasalahan Driver Tidak Datang       0.00      0.00      0.00         7\n",
      "                        Permasalahan Driver Tidak Membantu       0.00      0.00      0.00        58\n",
      "                Permasalahan Driver Tidak Menemukan Lokasi       0.00      0.00      0.00        24\n",
      "            Permasalahan Driver Tidak Menggunakan Aplikasi       0.00      0.00      0.00       179\n",
      "Permasalahan Driver Tidak Menyediakan Masker atau Keamanan       0.00      0.00      0.00         6\n",
      "                     Permasalahan Driver Tidak Profesional       1.00      0.02      0.03       170\n",
      "                           Permasalahan Driver Tidak Ramah       1.00      0.70      0.82       141\n",
      "                  Permasalahan Driver Tidak Sesuai Pesanan       0.00      0.00      0.00        57\n",
      "                           Permasalahan Lokasi Penjemputan       1.00      0.06      0.12       141\n",
      "                     Permasalahan Sulit Mendapatkan Driver       0.34      0.99      0.51       648\n",
      "                                    Tidak Ada Permasalahan       0.72      0.73      0.72       681\n",
      "\n",
      "                                                  accuracy                           0.47      2706\n",
      "                                                 macro avg       0.34      0.14      0.14      2706\n",
      "                                              weighted avg       0.56      0.47      0.37      2706\n",
      "\n",
      "Confusion Matrix:\n",
      " [[  1   0   0   0   0   0   0   0   0   0   0   0   0   0   0   0   0 106\n",
      "   14]\n",
      " [  0   0   0   0   0   0   0   0   0   0   0   0   0   0   0   0   0  44\n",
      "    3]\n",
      " [  0   0  27   0   0   0   0   0   0   0   0   0   0   0   0   0   0  93\n",
      "    4]\n",
      " [  0   0   0   0   0   0   0   0   0   0   0   0   0   0   0   0   0  12\n",
      "    2]\n",
      " [  0   0   0   0   3   0   0   0   0   0   0   0   0   0   0   0   0 223\n",
      "   14]\n",
      " [  0   0   0   0   2   0   0   0   0   0   0   0   0   0   0   0   0  24\n",
      "    2]\n",
      " [  0   0   0   0   0   0   0   0   0   0   0   0   0   0   0   0   0  13\n",
      "    3]\n",
      " [  0   0   0   0   0   0   0   0   0   0   0   0   0   0   0   0   0   2\n",
      "    2]\n",
      " [  0   0   0   0   0   0   0   0   0   0   0   0   0   0   0   0   0   6\n",
      "    1]\n",
      " [  0   0   0   0   1   0   0   0   0   0   0   0   0   0   0   0   0  44\n",
      "   13]\n",
      " [  0   0   0   0   0   0   0   0   0   0   0   0   0   0   0   0   0  19\n",
      "    5]\n",
      " [  0   0   0   0   0   0   0   0   0   0   0   0   0   0   0   0   0 135\n",
      "   44]\n",
      " [  0   0   0   0   0   0   0   0   0   0   0   0   0   0   0   0   0   2\n",
      "    4]\n",
      " [  0   0   0   0   0   0   0   0   0   0   0   0   0   3   0   0   0 149\n",
      "   18]\n",
      " [  0   0   0   0   0   0   0   0   0   0   0   0   0   0  99   0   0  13\n",
      "   29]\n",
      " [  0   0   0   0   0   0   0   0   0   0   0   0   0   0   0   0   0  44\n",
      "   13]\n",
      " [  0   0   0   0   1   0   0   0   0   0   0   0   0   0   0   0   9 113\n",
      "   18]\n",
      " [  0   0   0   0   0   0   0   0   0   0   0   0   0   0   0   0   0 642\n",
      "    6]\n",
      " [  0   0   0   0   0   0   0   0   0   0   0   0   0   0   0   0   0 185\n",
      "  496]]\n",
      "Model dan vectorizer telah disimpan.\n"
     ]
    }
   ],
   "source": [
    "import pandas as pd\n",
    "from sklearn.feature_extraction.text import TfidfVectorizer\n",
    "from sklearn.model_selection import train_test_split\n",
    "from sklearn.naive_bayes import MultinomialNB\n",
    "from sklearn.metrics import classification_report, confusion_matrix\n",
    "import joblib\n",
    "\n",
    "# Load dataset\n",
    "path = r\"C:\\Users\\ghiff\\Documents\\kuliah\\Analisa_Sentimen_Gojek\\percobaan 17\\driver_labeled.csv\"\n",
    "data = pd.read_csv(path)\n",
    "\n",
    "# Ekstraksi fitur (TF-IDF)\n",
    "tfidf = TfidfVectorizer(max_features=5000)\n",
    "X = tfidf.fit_transform(data['stemmed_tokens'].apply(lambda x: ' '.join(eval(x)))).toarray()\n",
    "\n",
    "# Label (Target)\n",
    "y = data['permasalahan']\n",
    "\n",
    "# Split data\n",
    "X_train, X_test, y_train, y_test = train_test_split(X, y, test_size=0.2, random_state=42)\n",
    "\n",
    "# Model Naive Bayes\n",
    "model = MultinomialNB()\n",
    "model.fit(X_train, y_train)\n",
    "\n",
    "# Evaluasi\n",
    "y_pred = model.predict(X_test)\n",
    "print(\"Classification Report:\\n\", classification_report(y_test, y_pred))\n",
    "print(\"Confusion Matrix:\\n\", confusion_matrix(y_test, y_pred))\n",
    "\n",
    "# Simpan model dan vectorizer\n",
    "joblib.dump(model, \"naive_bayes_model.pkl\")\n",
    "joblib.dump(tfidf, \"tfidf_vectorizer.pkl\")\n",
    "print(\"Model dan vectorizer telah disimpan.\")\n"
   ]
  },
  {
   "cell_type": "code",
   "execution_count": 4,
   "metadata": {},
   "outputs": [
    {
     "name": "stdout",
     "output_type": "stream",
     "text": [
      "Prediksi Permasalahan: Permasalahan Driver Tidak Ramah\n"
     ]
    }
   ],
   "source": [
    "import joblib\n",
    "\n",
    "# Load model dan vectorizer\n",
    "model = joblib.load(\"naive_bayes_model.pkl\")\n",
    "tfidf = joblib.load(\"tfidf_vectorizer.pkl\")\n",
    "\n",
    "# Input baru\n",
    "new_input = [\"cepat banget driver sopan dan ramah\"]\n",
    "new_input_transformed = tfidf.transform(new_input).toarray()\n",
    "\n",
    "# Prediksi\n",
    "prediction = model.predict(new_input_transformed)\n",
    "print(f\"Prediksi Permasalahan: {prediction[0]}\")\n"
   ]
  }
 ],
 "metadata": {
  "kernelspec": {
   "display_name": "base",
   "language": "python",
   "name": "python3"
  },
  "language_info": {
   "codemirror_mode": {
    "name": "ipython",
    "version": 3
   },
   "file_extension": ".py",
   "mimetype": "text/x-python",
   "name": "python",
   "nbconvert_exporter": "python",
   "pygments_lexer": "ipython3",
   "version": "3.12.7"
  }
 },
 "nbformat": 4,
 "nbformat_minor": 2
}
