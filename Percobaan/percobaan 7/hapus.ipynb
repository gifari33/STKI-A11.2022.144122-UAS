{
 "cells": [
  {
   "cell_type": "code",
   "execution_count": 2,
   "metadata": {
    "dotnet_interactive": {
     "language": "csharp"
    },
    "polyglot_notebook": {
     "kernelName": "csharp"
    }
   },
   "outputs": [
    {
     "name": "stderr",
     "output_type": "stream",
     "text": [
      "C:\\Users\\ghiff\\AppData\\Local\\Temp\\ipykernel_23056\\1774034908.py:11: FutureWarning: DataFrame.applymap has been deprecated. Use DataFrame.map instead.\n",
      "  df = df.applymap(lambda x: ' '.join(str(x).split()) if isinstance(x, str) else x)\n"
     ]
    },
    {
     "name": "stdout",
     "output_type": "stream",
     "text": [
      "Data telah dibersihkan dan disimpan di: J:\\Drive Saya\\analisa sentimen git\\percobaan 7\\validation_results.csv\n"
     ]
    }
   ],
   "source": [
    "import pandas as pd\n",
    "\n",
    "# Baca file CSV yang berisi spasi berlebih\n",
    "input_path = r'J:\\Drive Saya\\analisa sentimen git\\percobaan 5\\validation_results-3.csv'\n",
    "output_path = r'J:\\Drive Saya\\analisa sentimen git\\percobaan 7\\validation_results.csv'\n",
    "\n",
    "# Baca data dengan mengabaikan spasi tambahan di header dan kolom\n",
    "df = pd.read_csv(input_path, skipinitialspace=True)\n",
    "\n",
    "# Bersihkan spasi berlebih di setiap kolom\n",
    "df = df.applymap(lambda x: ' '.join(str(x).split()) if isinstance(x, str) else x)\n",
    "\n",
    "# Simpan hasil yang sudah dibersihkan\n",
    "df.to_csv(output_path, index=False)\n",
    "\n",
    "print(\"Data telah dibersihkan dan disimpan di:\", output_path)\n"
   ]
  }
 ],
 "metadata": {
  "kernelspec": {
   "display_name": "Python 3",
   "language": "python",
   "name": "python3"
  },
  "language_info": {
   "codemirror_mode": {
    "name": "ipython",
    "version": 3
   },
   "file_extension": ".py",
   "mimetype": "text/x-python",
   "name": "python",
   "nbconvert_exporter": "python",
   "pygments_lexer": "ipython3",
   "version": "3.12.5"
  },
  "polyglot_notebook": {
   "kernelInfo": {
    "defaultKernelName": "csharp",
    "items": [
     {
      "aliases": [],
      "name": "csharp"
     }
    ]
   }
  }
 },
 "nbformat": 4,
 "nbformat_minor": 2
}
