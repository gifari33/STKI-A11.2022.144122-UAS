{
 "cells": [
  {
   "cell_type": "code",
   "execution_count": 1,
   "metadata": {},
   "outputs": [
    {
     "name": "stdout",
     "output_type": "stream",
     "text": [
      "File berhasil disimpan di H:\\My Drive\\analisa sentimen git\\percobaan 9\\validation.csv\n",
      "Jumlah baris yang dihapus: 0\n",
      "Jumlah data positif: 39382\n",
      "Jumlah data negatif: 121585\n"
     ]
    }
   ],
   "source": [
    "import pandas as pd\n",
    "\n",
    "# Baca file CSV\n",
    "input_path = r\"H:\\My Drive\\analisa sentimen git\\percobaan 9\\validation.csv\"\n",
    "data = pd.read_csv(input_path)\n",
    "\n",
    "# Hitung jumlah baris sebelum penghapusan\n",
    "initial_count = len(data)\n",
    "\n",
    "# Hapus baris di mana jumlah kata pada kolom 'content' hanya satu\n",
    "data = data[data['content'].str.split().str.len() > 1]\n",
    "\n",
    "# Hitung jumlah baris setelah penghapusan\n",
    "final_count = len(data)\n",
    "\n",
    "# Simpan hasilnya ke file CSV baru\n",
    "output_path = r\"H:\\My Drive\\analisa sentimen git\\percobaan 9\\validation.csv\"\n",
    "data.to_csv(output_path, index=False)\n",
    "\n",
    "# Hitung jumlah baris yang dihapus\n",
    "deleted_count = initial_count - final_count\n",
    "\n",
    "# Hitung jumlah data positif dan negatif\n",
    "value_counts = data['Value'].value_counts()\n",
    "positif_count = value_counts.get('Positif', 0)\n",
    "negatif_count = value_counts.get('Negatif', 0)\n",
    "\n",
    "print(f\"File berhasil disimpan di {output_path}\")\n",
    "print(f\"Jumlah baris yang dihapus: {deleted_count}\")\n",
    "print(f\"Jumlah data positif: {positif_count}\")\n",
    "print(f\"Jumlah data negatif: {negatif_count}\")\n"
   ]
  },
  {
   "cell_type": "code",
   "execution_count": 2,
   "metadata": {},
   "outputs": [
    {
     "name": "stdout",
     "output_type": "stream",
     "text": [
      "File berhasil disimpan di H:\\My Drive\\analisa sentimen git\\percobaan 8\\validation_filtered.csv\n",
      "Jumlah baris yang dihapus: 126140\n",
      "Jumlah data positif: 38809\n",
      "Jumlah data negatif: 60053\n"
     ]
    }
   ],
   "source": [
    "import pandas as pd\n",
    "\n",
    "# Baca file CSV\n",
    "input_path = r\"H:\\My Drive\\analisa sentimen git\\percobaan 8\\validation_results.csv\"\n",
    "data = pd.read_csv(input_path)\n",
    "\n",
    "# Hitung jumlah baris sebelum penghapusan\n",
    "initial_count = len(data)\n",
    "\n",
    "# Hapus baris di mana jumlah kata pada kolom 'content' hanya satu\n",
    "data = data[data['content'].str.split().str.len() > 1]\n",
    "\n",
    "# Filter data yang tidak konsisten:\n",
    "# - Score di atas 3 tetapi nilai negatif\n",
    "# - Score 1 atau 2 tetapi nilai positif\n",
    "data = data[~((data['score'] > 3) & (data['Value'] == 'Negatif'))]\n",
    "data = data[~((data['score'] <= 2) & (data['Value'] == 'Positif'))]\n",
    "\n",
    "# Hitung jumlah baris setelah penghapusan\n",
    "final_count = len(data)\n",
    "\n",
    "# Simpan hasilnya ke file CSV baru\n",
    "output_path = r\"H:\\My Drive\\analisa sentimen git\\percobaan 8\\validation_filtered.csv\"\n",
    "data.to_csv(output_path, index=False)\n",
    "\n",
    "# Hitung jumlah baris yang dihapus\n",
    "deleted_count = initial_count - final_count\n",
    "\n",
    "# Hitung jumlah data positif dan negatif setelah penghapusan\n",
    "value_counts = data['Value'].value_counts()\n",
    "positif_count = value_counts.get('Positif', 0)\n",
    "negatif_count = value_counts.get('Negatif', 0)\n",
    "\n",
    "print(f\"File berhasil disimpan di {output_path}\")\n",
    "print(f\"Jumlah baris yang dihapus: {deleted_count}\")\n",
    "print(f\"Jumlah data positif: {positif_count}\")\n",
    "print(f\"Jumlah data negatif: {negatif_count}\")\n"
   ]
  }
 ],
 "metadata": {
  "kernelspec": {
   "display_name": "Python 3",
   "language": "python",
   "name": "python3"
  },
  "language_info": {
   "codemirror_mode": {
    "name": "ipython",
    "version": 3
   },
   "file_extension": ".py",
   "mimetype": "text/x-python",
   "name": "python",
   "nbconvert_exporter": "python",
   "pygments_lexer": "ipython3",
   "version": "3.13.0"
  }
 },
 "nbformat": 4,
 "nbformat_minor": 2
}
